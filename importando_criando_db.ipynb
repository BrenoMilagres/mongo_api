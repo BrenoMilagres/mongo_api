{
 "cells": [
  {
   "cell_type": "markdown",
   "metadata": {},
   "source": [
    "# Teste GetUPix - Desenvolvedor Machine Learning & Python\n",
    "#### 1.\tImportar .csv para MongoDB utilizando pymongo\n",
    "#### 2.\tCriar variáveis de ambientes relativos ao banco de dados\n",
    "#### 3.\tCriar API com os seguintes endpoints:\n",
    "  -\tRequisição para receber todos os dados de cada document;\n",
    "  -\tRequisição para criar um novo documento;\n",
    "  -\tRequisição para mostrar a quantidade de documentos encontrados com os parâmetros: data maior do que 'date', location, e iso code.\n",
    "  -\tRequisição para deletar um documento\n",
    "  -\tRequisição para encontrar um documento com o parâmetro 'population' (e retornar erro descrito em caso de erro)\n",
    "  \n",
    "#### 4.\tImplementar memória em cache dos endpoints GET/detail\n"
   ]
  },
  {
   "cell_type": "code",
   "execution_count": 2,
   "metadata": {},
   "outputs": [
    {
     "name": "stdout",
     "output_type": "stream",
     "text": [
      "Collecting pymongo\n",
      "  Downloading pymongo-3.11.3-cp37-cp37m-win_amd64.whl (382 kB)\n",
      "Installing collected packages: pymongo\n",
      "Successfully installed pymongo-3.11.3\n"
     ]
    }
   ],
   "source": [
    "!pip install pymongo"
   ]
  },
  {
   "cell_type": "code",
   "execution_count": 1,
   "metadata": {},
   "outputs": [],
   "source": [
    "import csv\n",
    "import json\n",
    "import pandas as pd\n",
    "import sys, getopt, pprint\n",
    "from pymongo import MongoClient"
   ]
  },
  {
   "cell_type": "code",
   "execution_count": 2,
   "metadata": {},
   "outputs": [
    {
     "name": "stdout",
     "output_type": "stream",
     "text": [
      "<class 'pandas.core.frame.DataFrame'>\n",
      "RangeIndex: 72775 entries, 0 to 72774\n",
      "Data columns (total 59 columns):\n",
      " #   Column                                 Non-Null Count  Dtype  \n",
      "---  ------                                 --------------  -----  \n",
      " 0   iso_code                               72775 non-null  object \n",
      " 1   continent                              69168 non-null  object \n",
      " 2   location                               72775 non-null  object \n",
      " 3   date                                   72775 non-null  object \n",
      " 4   total_cases                            71729 non-null  float64\n",
      " 5   new_cases                              71727 non-null  float64\n",
      " 6   new_cases_smoothed                     70726 non-null  float64\n",
      " 7   total_deaths                           62606 non-null  float64\n",
      " 8   new_deaths                             62764 non-null  float64\n",
      " 9   new_deaths_smoothed                    70726 non-null  float64\n",
      " 10  total_cases_per_million                71337 non-null  float64\n",
      " 11  new_cases_per_million                  71335 non-null  float64\n",
      " 12  new_cases_smoothed_per_million         70339 non-null  float64\n",
      " 13  total_deaths_per_million               62227 non-null  float64\n",
      " 14  new_deaths_per_million                 62385 non-null  float64\n",
      " 15  new_deaths_smoothed_per_million        70339 non-null  float64\n",
      " 16  reproduction_rate                      58548 non-null  float64\n",
      " 17  icu_patients                           7639 non-null   float64\n",
      " 18  icu_patients_per_million               7639 non-null   float64\n",
      " 19  hosp_patients                          9185 non-null   float64\n",
      " 20  hosp_patients_per_million              9185 non-null   float64\n",
      " 21  weekly_icu_admissions                  645 non-null    float64\n",
      " 22  weekly_icu_admissions_per_million      645 non-null    float64\n",
      " 23  weekly_hosp_admissions                 1229 non-null   float64\n",
      " 24  weekly_hosp_admissions_per_million     1229 non-null   float64\n",
      " 25  new_tests                              32924 non-null  float64\n",
      " 26  total_tests                            32749 non-null  float64\n",
      " 27  total_tests_per_thousand               32749 non-null  float64\n",
      " 28  new_tests_per_thousand                 32924 non-null  float64\n",
      " 29  new_tests_smoothed                     37564 non-null  float64\n",
      " 30  new_tests_smoothed_per_thousand        37564 non-null  float64\n",
      " 31  positive_rate                          36371 non-null  float64\n",
      " 32  tests_per_case                         35810 non-null  float64\n",
      " 33  tests_units                            38870 non-null  object \n",
      " 34  total_vaccinations                     3208 non-null   float64\n",
      " 35  people_vaccinated                      2782 non-null   float64\n",
      " 36  people_fully_vaccinated                1840 non-null   float64\n",
      " 37  new_vaccinations                       2702 non-null   float64\n",
      " 38  new_vaccinations_smoothed              4810 non-null   float64\n",
      " 39  total_vaccinations_per_hundred         3208 non-null   float64\n",
      " 40  people_vaccinated_per_hundred          2782 non-null   float64\n",
      " 41  people_fully_vaccinated_per_hundred    1840 non-null   float64\n",
      " 42  new_vaccinations_smoothed_per_million  4810 non-null   float64\n",
      " 43  stringency_index                       62268 non-null  float64\n",
      " 44  population                             72374 non-null  float64\n",
      " 45  population_density                     67986 non-null  float64\n",
      " 46  median_age                             66114 non-null  float64\n",
      " 47  aged_65_older                          65352 non-null  float64\n",
      " 48  aged_70_older                          65741 non-null  float64\n",
      " 49  gdp_per_capita                         66308 non-null  float64\n",
      " 50  extreme_poverty                        45275 non-null  float64\n",
      " 51  cardiovasc_death_rate                  66949 non-null  float64\n",
      " 52  diabetes_prevalence                    67791 non-null  float64\n",
      " 53  female_smokers                         52644 non-null  float64\n",
      " 54  male_smokers                           51921 non-null  float64\n",
      " 55  handwashing_facilities                 33592 non-null  float64\n",
      " 56  hospital_beds_per_thousand             61295 non-null  float64\n",
      " 57  life_expectancy                        69146 non-null  float64\n",
      " 58  human_development_index                66890 non-null  float64\n",
      "dtypes: float64(54), object(5)\n",
      "memory usage: 32.8+ MB\n"
     ]
    }
   ],
   "source": [
    "df = pd.read_csv('covid_data.csv')\n",
    "df.info()"
   ]
  },
  {
   "cell_type": "code",
   "execution_count": 3,
   "metadata": {},
   "outputs": [],
   "source": [
    "\n",
    "#CSV para JSON \n",
    "csvfile = open('covid_data.csv', 'r')\n",
    "reader = csv.DictReader( csvfile )\n",
    "mongo_client=MongoClient() \n",
    "db=mongo_client.covid_data\n",
    "db.covid.drop()\n",
    "header= [ 'iso_code','continent','location','date','total_cases','new_cases','new_cases_smoothed','total_deaths',\n",
    "         'new_deaths','new_deaths_smoothed','total_cases_per_million','new_cases_per_million','new_cases_smoothed_per_million',\n",
    "         'total_deaths_per_million','new_deaths_per_million','new_deaths_smoothed_per_million','reproduction_rate',\n",
    "         'icu_patients','icu_patients_per_million','hosp_patients','hosp_patients_per_million','weekly_icu_admissions',\n",
    "         'weekly_icu_admissions_per_million','weekly_hosp_admissions','weekly_hosp_admissions_per_million',\n",
    "         'new_tests','total_tests','total_tests_per_thousand','new_tests_per_thousand','new_tests_smoothed',\n",
    "         'new_tests_smoothed_per_thousand','positive_rate','tests_per_case','tests_units','total_vaccinations',\n",
    "         'people_vaccinated','people_fully_vaccinated','new_vaccinations','new_vaccinations_smoothed',\n",
    "         'total_vaccinations_per_hundred','people_vaccinated_per_hundred','people_fully_vaccinated_per_hundred',\n",
    "         'new_vaccinations_smoothed_per_million','stringency_index','population','population_density','median_age',\n",
    "         'aged_65_older','aged_70_older','gdp_per_capita','extreme_poverty','cardiovasc_death_rate']\n",
    "\n",
    "\n",
    "for each in reader:\n",
    "    row={}\n",
    "    for field in header:\n",
    "        row[field]=each[field]\n",
    "\n",
    "    db.covid.insert_one(row)  \n"
   ]
  },
  {
   "cell_type": "code",
   "execution_count": 4,
   "metadata": {},
   "outputs": [
    {
     "name": "stderr",
     "output_type": "stream",
     "text": [
      "C:\\Users\\breno\\Anaconda3\\envs\\Dev\\lib\\site-packages\\ipykernel_launcher.py:1: DeprecationWarning: count is deprecated. Use estimated_document_count or count_documents instead. Please note that $where must be replaced by $expr, $near must be replaced by $geoWithin with $center, and $nearSphere must be replaced by $geoWithin with $centerSphere\n",
      "  \"\"\"Entry point for launching an IPython kernel.\n"
     ]
    },
    {
     "data": {
      "text/plain": [
       "72775"
      ]
     },
     "execution_count": 4,
     "metadata": {},
     "output_type": "execute_result"
    }
   ],
   "source": [
    "db.covid.count()"
   ]
  },
  {
   "cell_type": "code",
   "execution_count": 7,
   "metadata": {},
   "outputs": [
    {
     "data": {
      "text/plain": [
       "{'_id': ObjectId('6044f423ca1097035a1173f1'),\n",
       " 'iso_code': 'AFG',\n",
       " 'continent': 'Asia',\n",
       " 'location': 'Afghanistan',\n",
       " 'date': '2020-02-24',\n",
       " 'total_cases': '1.0',\n",
       " 'new_cases': '1.0',\n",
       " 'new_cases_smoothed': '',\n",
       " 'total_deaths': '',\n",
       " 'new_deaths': '',\n",
       " 'new_deaths_smoothed': '',\n",
       " 'total_cases_per_million': '0.026',\n",
       " 'new_cases_per_million': '0.026',\n",
       " 'new_cases_smoothed_per_million': '',\n",
       " 'total_deaths_per_million': '',\n",
       " 'new_deaths_per_million': '',\n",
       " 'new_deaths_smoothed_per_million': '',\n",
       " 'reproduction_rate': '',\n",
       " 'icu_patients': '',\n",
       " 'icu_patients_per_million': '',\n",
       " 'hosp_patients': '',\n",
       " 'hosp_patients_per_million': '',\n",
       " 'weekly_icu_admissions': '',\n",
       " 'weekly_icu_admissions_per_million': '',\n",
       " 'weekly_hosp_admissions': '',\n",
       " 'weekly_hosp_admissions_per_million': '',\n",
       " 'new_tests': '',\n",
       " 'total_tests': '',\n",
       " 'total_tests_per_thousand': '',\n",
       " 'new_tests_per_thousand': '',\n",
       " 'new_tests_smoothed': '',\n",
       " 'new_tests_smoothed_per_thousand': '',\n",
       " 'positive_rate': '',\n",
       " 'tests_per_case': '',\n",
       " 'tests_units': '',\n",
       " 'total_vaccinations': '',\n",
       " 'people_vaccinated': '',\n",
       " 'people_fully_vaccinated': '',\n",
       " 'new_vaccinations': '',\n",
       " 'new_vaccinations_smoothed': '',\n",
       " 'total_vaccinations_per_hundred': '',\n",
       " 'people_vaccinated_per_hundred': '',\n",
       " 'people_fully_vaccinated_per_hundred': '',\n",
       " 'new_vaccinations_smoothed_per_million': '',\n",
       " 'stringency_index': '8.33',\n",
       " 'population': '38928341.0',\n",
       " 'population_density': '54.422',\n",
       " 'median_age': '18.6',\n",
       " 'aged_65_older': '2.581',\n",
       " 'aged_70_older': '1.337',\n",
       " 'gdp_per_capita': '1803.987',\n",
       " 'extreme_poverty': '',\n",
       " 'cardiovasc_death_rate': '597.029'}"
      ]
     },
     "execution_count": 7,
     "metadata": {},
     "output_type": "execute_result"
    }
   ],
   "source": [
    "a = '38928341.0'\n",
    "db.covid.find_one({\"population\": a})"
   ]
  }
 ],
 "metadata": {
  "kernelspec": {
   "display_name": "Python 3",
   "language": "python",
   "name": "python3"
  },
  "language_info": {
   "codemirror_mode": {
    "name": "ipython",
    "version": 3
   },
   "file_extension": ".py",
   "mimetype": "text/x-python",
   "name": "python",
   "nbconvert_exporter": "python",
   "pygments_lexer": "ipython3",
   "version": "3.7.1"
  }
 },
 "nbformat": 4,
 "nbformat_minor": 4
}
